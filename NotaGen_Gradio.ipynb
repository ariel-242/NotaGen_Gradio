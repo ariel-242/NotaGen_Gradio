{
  "cells": [
    {
      "cell_type": "markdown",
      "metadata": {
        "id": "view-in-github",
        "colab_type": "text"
      },
      "source": [
        "<a href=\"https://colab.research.google.com/github/ariel-242/NotaGen_Gradio/blob/V2/NotaGen_Gradio.ipynb\" target=\"_parent\"><img src=\"https://colab.research.google.com/assets/colab-badge.svg\" alt=\"Open In Colab\"/></a>"
      ]
    },
    {
      "cell_type": "markdown",
      "source": [
        "# How to Use This Colab\n",
        "\n",
        "1. Make sure your **Runtime type** is set to **GPU**:  \n",
        "   Go to **Runtime > Change runtime type** and select any GPU.\n",
        "\n",
        "2. Run the code cell below **once** by clicking the play button.  \n",
        "   This will clone the repo, install dependencies, download the model weights, and launch the demo.\n",
        "\n",
        "3. Wait patiently — the installation and download may take a few minutes.\n",
        "\n",
        "4. Wait until you see the **Gradio share link** in the output.  \n",
        "   Click the link to open the interactive interface where you can use the model."
      ],
      "metadata": {
        "id": "uC0W7tRNcEKH"
      }
    },
    {
      "cell_type": "code",
      "execution_count": null,
      "metadata": {
        "id": "2SoDHSWA8CDz"
      },
      "outputs": [],
      "source": [
        "!git clone -q -b V2 --single-branch https://github.com/ariel-242/NotaGen_Gradio.git\n",
        "%cd NotaGen_Gradio\n",
        "!pip install -q -r requirements.txt\n",
        "!pip install -q torch==2.3.0 torch torchvision torchaudio --index-url https://download.pytorch.org/whl/cu118\n",
        "!pip install -q accelerate\n",
        "!pip install -q optimum\n",
        "!pip install -q aria2\n",
        "\n",
        "url = 'https://huggingface.co/ElectricAlexis/NotaGen/resolve/main/weights_notagenx_p_size_16_p_length_1024_p_layers_20_h_size_1280.pth'\n",
        "filename = 'weights_notagenx_p_size_16_p_length_1024_p_layers_20_h_size_1280.pth'\n",
        "%cd models\n",
        "!aria2c --console-log-level=error -c -x 16 -s 16 -k 1M {url}  -o {filename}\n",
        "%cd ..\n",
        "\n",
        "!python demo.py"
      ]
    }
  ],
  "metadata": {
    "accelerator": "GPU",
    "colab": {
      "gpuType": "T4",
      "provenance": [],
      "include_colab_link": true
    },
    "kernelspec": {
      "display_name": "Python 3",
      "name": "python3"
    },
    "language_info": {
      "name": "python"
    }
  },
  "nbformat": 4,
  "nbformat_minor": 0
}